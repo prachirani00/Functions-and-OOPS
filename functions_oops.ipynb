{
 "cells": [
  {
   "cell_type": "markdown",
   "metadata": {
    "id": "qpaDB-t7pANc"
   },
   "source": [
    "1\n",
    "Explain the importance of Functions.\n",
    "\n",
    "1. Functions are reusable blocks of code that perform specific tasks.\n",
    "2. They help break down complex programs into smaller, manageable units.\n",
    "3. They improve code organization, readability, and maintainability.\n",
    "4. Functions allow you to avoid repetition of code, making your programs more efficient.\n",
    "5. They facilitate modular programming, enabling you to create reusable components.\n"
   ]
  },
  {
   "cell_type": "markdown",
   "metadata": {
    "id": "r6w--WY-pnJR"
   },
   "source": [
    "2."
   ]
  },
  {
   "cell_type": "code",
   "execution_count": 1,
   "metadata": {
    "colab": {
     "base_uri": "https://localhost:8080/"
    },
    "id": "cCWdlmWFpsnA",
    "outputId": "b10be471-8cc2-4f43-ee29-3b1bcb77b7cf"
   },
   "outputs": [
    {
     "name": "stdout",
     "output_type": "stream",
     "text": [
      "Hello students! Welcome to the class.\n"
     ]
    }
   ],
   "source": [
    "def greet_students():\n",
    "    \"\"\"Greets students with a simple message.\"\"\"\n",
    "    print(\"Hello students! Welcome to the class.\")\n",
    "\n",
    "greet_students()"
   ]
  },
  {
   "cell_type": "markdown",
   "metadata": {
    "id": "vh4A-YZ6p3qf"
   },
   "source": [
    "3.\n",
    "  print() - displays output to the console. It doesn't return any value.\n",
    "  return - sends a value back to where the function was called. This allows you to use the function's result in other parts of your program."
   ]
  },
  {
   "cell_type": "markdown",
   "metadata": {
    "id": "reVfP5OmqOMZ"
   },
   "source": [
    "example of 3rd question\n"
   ]
  },
  {
   "cell_type": "code",
   "execution_count": 2,
   "metadata": {
    "colab": {
     "base_uri": "https://localhost:8080/"
    },
    "id": "7_ydUZYyqcDz",
    "outputId": "76a3094f-c00e-46e4-b64a-d8dbf0956d9e"
   },
   "outputs": [
    {
     "name": "stdout",
     "output_type": "stream",
     "text": [
      "8\n"
     ]
    }
   ],
   "source": [
    "def add_numbers(a, b):\n",
    "  \"\"\"Adds two numbers and returns the sum.\"\"\"\n",
    "  sum = a + b\n",
    "  return sum\n",
    "\n",
    "result = add_numbers(5, 3)\n",
    "print(result)"
   ]
  },
  {
   "cell_type": "markdown",
   "metadata": {
    "id": "g07Oyq4Gqfp9"
   },
   "source": [
    "4.\n",
    "*args  is used to pass a variable number of non-keyword arguments to a function. It collects them into a tuple.\n",
    "\n",
    "\n",
    "\n",
    "**kwargs  is used to pass a variable number of keyword arguments to a function. It collects them into a dictionary.\n",
    "\n",
    "\n",
    "Example of 4th question is"
   ]
  },
  {
   "cell_type": "code",
   "execution_count": 3,
   "metadata": {
    "colab": {
     "base_uri": "https://localhost:8080/"
    },
    "id": "NvvlHmeyqrVS",
    "outputId": "ae9b2950-079e-46b8-c692-91fb7a1708ff"
   },
   "outputs": [
    {
     "name": "stdout",
     "output_type": "stream",
     "text": [
      "args: (1, 2, 3)\n",
      "kwargs: {'name': 'Alice', 'age': 30}\n"
     ]
    }
   ],
   "source": [
    "def my_function(*args, **kwargs):\n",
    "  print(\"args:\", args)\n",
    "  print(\"kwargs:\", kwargs)\n",
    "\n",
    "my_function(1, 2, 3, name='Alice', age=30)"
   ]
  },
  {
   "cell_type": "markdown",
   "metadata": {
    "id": "3wkOIijorGeo"
   },
   "source": [
    "5.\n",
    "Explain the iterator function.\n",
    "\n",
    "\n",
    "\n",
    "An iterator is an object that enables you to traverse through a sequence of elements one by one.\n",
    "\n",
    "It has two main methods:\n",
    "\n",
    "__iter__(): Returns the iterator object itself.\n",
    "\n",
    "__next__(): Returns the next item in the sequence. If there are no more items, it raises a StopIteration exception.\n",
    "\n",
    "Example of 5th question"
   ]
  },
  {
   "cell_type": "code",
   "execution_count": 4,
   "metadata": {
    "colab": {
     "base_uri": "https://localhost:8080/"
    },
    "id": "vbjScMdWrBho",
    "outputId": "66db5aea-2f93-4c42-c44f-1211e53bc072"
   },
   "outputs": [
    {
     "name": "stdout",
     "output_type": "stream",
     "text": [
      "1\n",
      "2\n",
      "3\n",
      "4\n",
      "5\n"
     ]
    }
   ],
   "source": [
    "my_list = [1, 2, 3, 4, 5]\n",
    "my_iterator = iter(my_list)\n",
    "\n",
    "print(next(my_iterator))\n",
    "print(next(my_iterator))\n",
    "print(next(my_iterator))\n",
    "\n",
    "for element in my_iterator:\n",
    "  print(element)"
   ]
  },
  {
   "cell_type": "markdown",
   "metadata": {
    "id": "17PIzEherkaR"
   },
   "source": [
    "**6.**"
   ]
  },
  {
   "cell_type": "code",
   "execution_count": 5,
   "metadata": {
    "colab": {
     "base_uri": "https://localhost:8080/"
    },
    "id": "CtIh9KLfrrq1",
    "outputId": "157e8b3b-a082-494d-e1c5-ddc2d2d30671"
   },
   "outputs": [
    {
     "name": "stdout",
     "output_type": "stream",
     "text": [
      "1\n",
      "4\n",
      "9\n",
      "16\n",
      "25\n"
     ]
    }
   ],
   "source": [
    "def square_generator(n):\n",
    "    \"\"\"Generates the squares of numbers from 1 to n.\"\"\"\n",
    "    for i in range(1, n + 1):\n",
    "        yield i * i\n",
    "\n",
    "for square in square_generator(5):\n",
    "  print(square)"
   ]
  },
  {
   "cell_type": "markdown",
   "metadata": {
    "id": "BcnxnKPmrzm-"
   },
   "source": [
    "**7.**"
   ]
  },
  {
   "cell_type": "code",
   "execution_count": 6,
   "metadata": {
    "colab": {
     "base_uri": "https://localhost:8080/"
    },
    "id": "M63j5gGlr1ip",
    "outputId": "312e1c09-31a1-48ae-8f97-d606de8d4e2f"
   },
   "outputs": [
    {
     "name": "stdout",
     "output_type": "stream",
     "text": [
      "1\n",
      "2\n",
      "3\n",
      "4\n",
      "5\n",
      "6\n",
      "7\n",
      "8\n",
      "9\n",
      "11\n",
      "22\n",
      "33\n",
      "44\n",
      "55\n",
      "66\n",
      "77\n",
      "88\n",
      "99\n"
     ]
    }
   ],
   "source": [
    "def palindromic_generator(n):\n",
    "    \"\"\"Generates palindromic numbers up to n.\"\"\"\n",
    "    for i in range(1, n + 1):\n",
    "        if str(i) == str(i)[::-1]:\n",
    "            yield i\n",
    "\n",
    "for palindrome in palindromic_generator(100):\n",
    "  print(palindrome)"
   ]
  },
  {
   "cell_type": "markdown",
   "metadata": {
    "id": "IUtNgPO5sBv8"
   },
   "source": [
    "**8.**"
   ]
  },
  {
   "cell_type": "code",
   "execution_count": 7,
   "metadata": {
    "colab": {
     "base_uri": "https://localhost:8080/"
    },
    "id": "VF8SmdjgsHeI",
    "outputId": "2a96f498-1eb8-43f6-c2f2-a7a285d4c010"
   },
   "outputs": [
    {
     "name": "stdout",
     "output_type": "stream",
     "text": [
      "2\n",
      "4\n",
      "6\n",
      "8\n",
      "10\n",
      "12\n",
      "14\n",
      "16\n",
      "18\n",
      "20\n"
     ]
    }
   ],
   "source": [
    "def even_generator(n):\n",
    "    \"\"\"Generates even numbers from 2 to n.\"\"\"\n",
    "    for i in range(2, n + 1, 2):\n",
    "        yield i\n",
    "\n",
    "for even_num in even_generator(20):\n",
    "  print(even_num)"
   ]
  },
  {
   "cell_type": "markdown",
   "metadata": {
    "id": "Cz7Q1m5MsQlW"
   },
   "source": [
    "**9.**"
   ]
  },
  {
   "cell_type": "code",
   "execution_count": 8,
   "metadata": {
    "colab": {
     "base_uri": "https://localhost:8080/"
    },
    "id": "Q0pVVFbUsS5L",
    "outputId": "5fbdcb84-bb02-4d59-d2cf-347986fe3707"
   },
   "outputs": [
    {
     "name": "stdout",
     "output_type": "stream",
     "text": [
      "1\n",
      "2\n",
      "4\n",
      "8\n",
      "16\n",
      "32\n"
     ]
    }
   ],
   "source": [
    "def powers_of_two_generator(n):\n",
    "    \"\"\"Generates powers of two up to n.\"\"\"\n",
    "    i = 0\n",
    "    while 2 ** i <= n:\n",
    "        yield 2 ** i\n",
    "        i += 1\n",
    "\n",
    "for power in powers_of_two_generator(32):\n",
    "  print(power)"
   ]
  },
  {
   "cell_type": "markdown",
   "metadata": {
    "id": "07gt751tsb9s"
   },
   "source": [
    "**10.**"
   ]
  },
  {
   "cell_type": "code",
   "execution_count": 9,
   "metadata": {
    "colab": {
     "base_uri": "https://localhost:8080/"
    },
    "id": "bM2slhWqsfeu",
    "outputId": "ea4d4507-9457-4b2c-a2d8-c95e270aca15"
   },
   "outputs": [
    {
     "name": "stdout",
     "output_type": "stream",
     "text": [
      "2\n",
      "3\n",
      "5\n",
      "7\n",
      "11\n",
      "13\n",
      "17\n",
      "19\n",
      "23\n",
      "29\n",
      "31\n",
      "37\n",
      "41\n",
      "43\n",
      "47\n"
     ]
    }
   ],
   "source": [
    "def prime_generator(n):\n",
    "    \"\"\"Generates prime numbers up to n.\"\"\"\n",
    "    for i in range(2, n + 1):\n",
    "        is_prime = True\n",
    "        for j in range(2, int(i**0.5) + 1):\n",
    "            if i % j == 0:\n",
    "                is_prime = False\n",
    "                break\n",
    "        if is_prime:\n",
    "            yield i\n",
    "\n",
    "for prime in prime_generator(50):\n",
    "  print(prime)"
   ]
  },
  {
   "cell_type": "markdown",
   "metadata": {
    "id": "fWLM_VPqsl_S"
   },
   "source": [
    "**11.**"
   ]
  },
  {
   "cell_type": "code",
   "execution_count": 10,
   "metadata": {
    "colab": {
     "base_uri": "https://localhost:8080/"
    },
    "id": "Th3y87y4soAn",
    "outputId": "e2e10cec-2986-49db-c71c-9b2d52eed3da"
   },
   "outputs": [
    {
     "name": "stdout",
     "output_type": "stream",
     "text": [
      "8\n"
     ]
    }
   ],
   "source": [
    "sum_func = lambda x, y: x + y\n",
    "\n",
    "result = sum_func(5, 3)\n",
    "print(result)"
   ]
  },
  {
   "cell_type": "markdown",
   "metadata": {
    "id": "fdwfCz_Bss9-"
   },
   "source": [
    "**12.**"
   ]
  },
  {
   "cell_type": "code",
   "execution_count": 11,
   "metadata": {
    "colab": {
     "base_uri": "https://localhost:8080/"
    },
    "id": "k6saUUYQsvXi",
    "outputId": "8d06348d-23bc-47df-87e6-85cd66983f0d"
   },
   "outputs": [
    {
     "name": "stdout",
     "output_type": "stream",
     "text": [
      "25\n"
     ]
    }
   ],
   "source": [
    "square_func = lambda x: x * x\n",
    "\n",
    "result = square_func(5)\n",
    "print(result)"
   ]
  },
  {
   "cell_type": "markdown",
   "metadata": {
    "id": "Oe-GqSMxs05L"
   },
   "source": [
    "**13.**"
   ]
  },
  {
   "cell_type": "code",
   "execution_count": 12,
   "metadata": {
    "colab": {
     "base_uri": "https://localhost:8080/"
    },
    "id": "90MzHX08s3A9",
    "outputId": "f7fc43d0-3524-43c5-ffb4-484ac729c379"
   },
   "outputs": [
    {
     "name": "stdout",
     "output_type": "stream",
     "text": [
      "True\n",
      "False\n"
     ]
    }
   ],
   "source": [
    "is_even_func = lambda x: x % 2 == 0\n",
    "\n",
    "result = is_even_func(6)\n",
    "print(result)\n",
    "\n",
    "result = is_even_func(7)\n",
    "print(result)"
   ]
  },
  {
   "cell_type": "markdown",
   "metadata": {
    "id": "NPaVD9vtt0qy"
   },
   "source": [
    "**15.**"
   ]
  },
  {
   "cell_type": "code",
   "execution_count": 13,
   "metadata": {
    "colab": {
     "base_uri": "https://localhost:8080/"
    },
    "id": "frX1cs7Gt2v1",
    "outputId": "2cc14eb3-5c80-470c-f919-b0618652f867"
   },
   "outputs": [
    {
     "name": "stdout",
     "output_type": "stream",
     "text": [
      "Hello World\n"
     ]
    }
   ],
   "source": [
    "string1 = \"Hello\"\n",
    "string2 = \"World\"\n",
    "\n",
    "concatenate_strings = lambda x, y: x + \" \" + y\n",
    "\n",
    "result = concatenate_strings(string1, string2)\n",
    "print(result)"
   ]
  },
  {
   "cell_type": "markdown",
   "metadata": {
    "id": "U3qijmxvt410"
   },
   "source": [
    "**16.**"
   ]
  },
  {
   "cell_type": "code",
   "execution_count": 14,
   "metadata": {
    "colab": {
     "base_uri": "https://localhost:8080/"
    },
    "id": "rZJ7zQhCt6y-",
    "outputId": "1c77b4da-51eb-464e-9e72-0c782dd34574"
   },
   "outputs": [
    {
     "name": "stdout",
     "output_type": "stream",
     "text": [
      "30\n"
     ]
    }
   ],
   "source": [
    "number1 = 10\n",
    "number2 = 20\n",
    "number3 = 30\n",
    "\n",
    "find_max = lambda x, y, z: max(x, y, z)\n",
    "\n",
    "result = find_max(number1, number2, number3)\n",
    "print(result)"
   ]
  },
  {
   "cell_type": "markdown",
   "metadata": {
    "id": "iP6cnl_juFbd"
   },
   "source": [
    "**17.**"
   ]
  },
  {
   "cell_type": "code",
   "execution_count": 15,
   "metadata": {
    "colab": {
     "base_uri": "https://localhost:8080/"
    },
    "id": "CSOc8UK1t_Dp",
    "outputId": "b7952819-09f9-4628-b2c7-38aff3708e65"
   },
   "outputs": [
    {
     "name": "stdout",
     "output_type": "stream",
     "text": [
      "[4, 16, 36, 64, 100]\n"
     ]
    }
   ],
   "source": [
    "numbers = [1, 2, 3, 4, 5, 6, 7, 8, 9, 10]\n",
    "\n",
    "even_squares = list(map(lambda x: x**2, filter(lambda x: x%2 == 0, numbers)))\n",
    "print(even_squares)"
   ]
  },
  {
   "cell_type": "markdown",
   "metadata": {
    "id": "abZ8FICquKPe"
   },
   "source": [
    "**18.**"
   ]
  },
  {
   "cell_type": "code",
   "execution_count": 16,
   "metadata": {
    "colab": {
     "base_uri": "https://localhost:8080/"
    },
    "id": "jgt9b5DzuJDr",
    "outputId": "29d2326e-62ff-4f5f-bf7b-3376158b5182"
   },
   "outputs": [
    {
     "name": "stdout",
     "output_type": "stream",
     "text": [
      "945\n"
     ]
    }
   ],
   "source": [
    "numbers = [1, -2, 3, -4, 5, -6, 7, -8, 9, -10]\n",
    "\n",
    "product_positive = lambda x: 1 if x <= 0 else x\n",
    "result = 1\n",
    "for num in numbers:\n",
    "    result *= product_positive(num)\n",
    "print(result)"
   ]
  },
  {
   "cell_type": "markdown",
   "metadata": {
    "id": "C8RJ9JDKuTxf"
   },
   "source": [
    "**19.**"
   ]
  },
  {
   "cell_type": "code",
   "execution_count": 17,
   "metadata": {
    "colab": {
     "base_uri": "https://localhost:8080/"
    },
    "id": "2R39iKNsuSEm",
    "outputId": "916635d9-90f8-45c0-8fca-7cb25e144099"
   },
   "outputs": [
    {
     "name": "stdout",
     "output_type": "stream",
     "text": [
      "[2, 2, 6, 4, 10, 6, 14, 8, 18, 10]\n"
     ]
    }
   ],
   "source": [
    "numbers = [1, 2, 3, 4, 5, 6, 7, 8, 9, 10]\n",
    "\n",
    "double_odd = lambda x: x*2 if x%2 != 0 else x\n",
    "result = list(map(double_odd, numbers))\n",
    "print(result)"
   ]
  },
  {
   "cell_type": "markdown",
   "metadata": {
    "id": "bx90K62Juc1g"
   },
   "source": [
    "**20.**"
   ]
  },
  {
   "cell_type": "code",
   "execution_count": 18,
   "metadata": {
    "colab": {
     "base_uri": "https://localhost:8080/"
    },
    "id": "GzQEL0qGuZek",
    "outputId": "cda0b003-8dfa-4a05-c077-36fbdcd9290a"
   },
   "outputs": [
    {
     "name": "stdout",
     "output_type": "stream",
     "text": [
      "3025\n"
     ]
    }
   ],
   "source": [
    "numbers = [1, 2, 3, 4, 5, 6, 7, 8, 9, 10]\n",
    "\n",
    "sum_of_cubes = lambda x: x**3\n",
    "result = sum(map(sum_of_cubes, numbers))\n",
    "print(result)"
   ]
  },
  {
   "cell_type": "markdown",
   "metadata": {
    "id": "uvQeKYOKujFy"
   },
   "source": [
    "**21.**"
   ]
  },
  {
   "cell_type": "code",
   "execution_count": 19,
   "metadata": {
    "colab": {
     "base_uri": "https://localhost:8080/"
    },
    "id": "fqbF8IcjugMw",
    "outputId": "b18d39ad-3e4d-44eb-d72d-3b6528bbff27"
   },
   "outputs": [
    {
     "name": "stdout",
     "output_type": "stream",
     "text": [
      "[2, 3, 5, 7]\n"
     ]
    }
   ],
   "source": [
    "numbers = [1, 2, 3, 4, 5, 6, 7, 8, 9, 10]\n",
    "\n",
    "is_prime = lambda x: x>1 and all(x%i for i in range(2,int(x**0.5)+1))\n",
    "\n",
    "prime_numbers = list(filter(is_prime, numbers))\n",
    "print(prime_numbers)"
   ]
  },
  {
   "cell_type": "markdown",
   "metadata": {
    "id": "DeDaGKyduqor"
   },
   "source": [
    "**22.**"
   ]
  },
  {
   "cell_type": "code",
   "execution_count": 20,
   "metadata": {
    "colab": {
     "base_uri": "https://localhost:8080/"
    },
    "id": "XeHoKLekupUM",
    "outputId": "bc0036c6-619d-483a-92e6-9e520b75734b"
   },
   "outputs": [
    {
     "name": "stdout",
     "output_type": "stream",
     "text": [
      "30\n"
     ]
    }
   ],
   "source": [
    "number1 = 10\n",
    "number2 = 20\n",
    "\n",
    "sum_of_numbers = lambda x, y: x + y\n",
    "result = sum_of_numbers(number1, number2)\n",
    "print(result)"
   ]
  },
  {
   "cell_type": "markdown",
   "metadata": {
    "id": "_mupCApsu29L"
   },
   "source": [
    "**23.**"
   ]
  },
  {
   "cell_type": "code",
   "execution_count": 21,
   "metadata": {
    "colab": {
     "base_uri": "https://localhost:8080/"
    },
    "id": "jnGcmUF3uxz-",
    "outputId": "b37157ef-4470-4162-a61f-c86354cc1d08"
   },
   "outputs": [
    {
     "name": "stdout",
     "output_type": "stream",
     "text": [
      "25\n"
     ]
    }
   ],
   "source": [
    "number = 5\n",
    "\n",
    "square_of_number = lambda x: x**2\n",
    "result = square_of_number(number)\n",
    "print(result)"
   ]
  },
  {
   "cell_type": "markdown",
   "metadata": {
    "id": "8tx1hPNiu81X"
   },
   "source": [
    "**24.**"
   ]
  },
  {
   "cell_type": "code",
   "execution_count": 22,
   "metadata": {
    "colab": {
     "base_uri": "https://localhost:8080/"
    },
    "id": "mYnn-VA3u0py",
    "outputId": "6d0c4949-6465-4f0e-c107-581ba5636f7b"
   },
   "outputs": [
    {
     "name": "stdout",
     "output_type": "stream",
     "text": [
      "True\n"
     ]
    }
   ],
   "source": [
    "number = 6\n",
    "\n",
    "is_even = lambda x: x%2 == 0\n",
    "result = is_even(number)\n",
    "print(result)"
   ]
  },
  {
   "cell_type": "markdown",
   "metadata": {
    "id": "jFXMVZjqvD9D"
   },
   "source": [
    "**25.**"
   ]
  },
  {
   "cell_type": "code",
   "execution_count": 23,
   "metadata": {
    "colab": {
     "base_uri": "https://localhost:8080/"
    },
    "id": "Lju_XafJvB_6",
    "outputId": "47e1546a-bbca-4ef0-89d1-dbe6c9db54fc"
   },
   "outputs": [
    {
     "name": "stdout",
     "output_type": "stream",
     "text": [
      "Hello World\n"
     ]
    }
   ],
   "source": [
    "string1 = \"Hello\"\n",
    "string2 = \"World\"\n",
    "\n",
    "concatenate_strings = lambda x, y: x + \" \" + y\n",
    "result = concatenate_strings(string1, string2)\n",
    "print(result)"
   ]
  },
  {
   "cell_type": "markdown",
   "metadata": {
    "id": "_ir7JmaUvQTD"
   },
   "source": [
    "**26.**"
   ]
  },
  {
   "cell_type": "code",
   "execution_count": 24,
   "metadata": {
    "colab": {
     "base_uri": "https://localhost:8080/"
    },
    "id": "JFA0FOgSvMZQ",
    "outputId": "35d9cd19-8af2-4d25-d751-31d67ae3cf04"
   },
   "outputs": [
    {
     "name": "stdout",
     "output_type": "stream",
     "text": [
      "30\n"
     ]
    }
   ],
   "source": [
    "number1 = 10\n",
    "number2 = 20\n",
    "number3 = 30\n",
    "\n",
    "find_max = lambda x, y, z: max(x, y, z)\n",
    "result = find_max(number1, number2, number3)\n",
    "print(result)"
   ]
  },
  {
   "cell_type": "markdown",
   "metadata": {
    "id": "4e2OTGzZvmay"
   },
   "source": [
    "**27.**\n",
    "\n",
    "**Data Hiding:** Encapsulation makes data private, accessible only within the class itself. This prevents direct access from outside the class, protecting data integrity.\n",
    "\n",
    "**Data Access:** Data can be accessed and modified through specific methods (getters and setters), which can include validation or other logic to ensure data consistency.\n",
    "\n",
    "*Key benefits of encapsulation include:*\n",
    "\n",
    "**Increased Code Maintainability:** Encapsulation makes code easier to understand, modify, and reuse because data and methods are bundled together.\n",
    "\n",
    "**Improved Code Security:** Data is protected from unintended access, reducing the risk of errors and security vulnerabilities.\n",
    "\n",
    "**Abstraction:** Encapsulation promotes abstraction by providing a simplified interface to access data, hiding the underlying implementation details."
   ]
  },
  {
   "cell_type": "markdown",
   "metadata": {
    "id": "B27LfsPuwCh_"
   },
   "source": [
    "**28.**"
   ]
  },
  {
   "cell_type": "markdown",
   "metadata": {
    "id": "BKCJMrDJwuLp"
   },
   "source": [
    "**Python**, unlike languages like Java or C++, doesn't have strict \"private\" or \"protected\" access modifiers like those found in other object-oriented languages. There's a convention, however:\n",
    "\n",
    "**Name Mangling:** If a variable or method name starts with a double underscore ('__'), Python uses name mangling to make it less accessible outside the class.\n",
    "\n",
    "**Convention**: While not enforced, Python developers use a single underscore ('_') to indicate a variable or method that's intended to be private.\n",
    "\n",
    "**Example of this question**"
   ]
  },
  {
   "cell_type": "code",
   "execution_count": 25,
   "metadata": {
    "id": "KOpd7ip7xHjE"
   },
   "outputs": [],
   "source": [
    "class MyClass:\n",
    "    def __init__(self, value):\n",
    "        self.public_var = value\n",
    "        self._private_var = \"This is a private variable\"\n",
    "\n",
    "    def public_method(self):\n",
    "        print(\"Public method\")\n",
    "\n",
    "    def _private_method(self):\n",
    "        print(\"Private method (convention only)\")"
   ]
  },
  {
   "cell_type": "markdown",
   "metadata": {
    "id": "P9Q8-_-pw9id"
   },
   "source": [
    "**29.**\n",
    "\n",
    "**Inheritance** is a fundamental OOP principle that allows you to create new classes (child classes or subclasses) based on existing classes (parent classes or superclasses). The child class inherits all the properties and behaviors of the parent class, and it can also add its own unique features. This promotes code reuse and organization."
   ]
  },
  {
   "cell_type": "markdown",
   "metadata": {
    "id": "y-TnXnD7xT2V"
   },
   "source": [
    "**30.**\n",
    "\n",
    "**Polymorphism** means \"many forms\" in Greek. In OOP, it refers to the ability of objects of different classes to respond to the same method call in their own unique ways. This is achieved through method overriding."
   ]
  },
  {
   "cell_type": "markdown",
   "metadata": {
    "id": "mti7NIfCxjO2"
   },
   "source": [
    "**31.**\n",
    "\n",
    "**Method overriding** occurs when a child class defines a method with the same name and signature (parameters) as a method in its parent class. When you call the overridden method on an object of the child class, the child class's version of the method will be executed instead of the parent class's version."
   ]
  },
  {
   "cell_type": "markdown",
   "metadata": {
    "id": "lbvU8BYkxvod"
   },
   "source": [
    "**32.**\n",
    "\n"
   ]
  },
  {
   "cell_type": "code",
   "execution_count": 26,
   "metadata": {
    "colab": {
     "base_uri": "https://localhost:8080/"
    },
    "id": "AwFcSL0CxTWW",
    "outputId": "c80eb479-162b-47f3-9760-e50793a8fcf2"
   },
   "outputs": [
    {
     "name": "stdout",
     "output_type": "stream",
     "text": [
      "Generic animal sound\n",
      "Woof!\n"
     ]
    }
   ],
   "source": [
    "class Animal:\n",
    "    def make_sound(self):\n",
    "        print(\"Generic animal sound\")\n",
    "\n",
    "class Dog(Animal):\n",
    "    def make_sound(self):\n",
    "        print(\"Woof!\")\n",
    "\n",
    "animal = Animal()\n",
    "animal.make_sound()\n",
    "\n",
    "dog = Dog()\n",
    "dog.make_sound()"
   ]
  },
  {
   "cell_type": "markdown",
   "metadata": {
    "id": "qoYtVthSx50X"
   },
   "source": [
    "**33.**"
   ]
  },
  {
   "cell_type": "code",
   "execution_count": 27,
   "metadata": {
    "colab": {
     "base_uri": "https://localhost:8080/"
    },
    "id": "P7l6EOXfvUGD",
    "outputId": "f0880c2b-aebf-404c-ea25-9a277a109f26"
   },
   "outputs": [
    {
     "name": "stdout",
     "output_type": "stream",
     "text": [
      "Animal moves\n",
      "Dog runs\n"
     ]
    }
   ],
   "source": [
    "class Animal:\n",
    "    def make_sound(self):\n",
    "        print(\"Generic animal sound\")\n",
    "\n",
    "    def move(self):\n",
    "        print(\"Animal moves\")\n",
    "\n",
    "class Dog(Animal):\n",
    "    def make_sound(self):\n",
    "        print(\"Woof!\")\n",
    "\n",
    "    def move(self):\n",
    "        print(\"Dog runs\")\n",
    "\n",
    "animal = Animal()\n",
    "animal.move()\n",
    "\n",
    "dog = Dog()\n",
    "dog.move()"
   ]
  },
  {
   "cell_type": "markdown",
   "metadata": {
    "id": "W6nWMnz3yF9X"
   },
   "source": [
    "**34.**"
   ]
  },
  {
   "cell_type": "code",
   "execution_count": 29,
   "metadata": {
    "id": "A-n-P8QOyBep"
   },
   "outputs": [],
   "source": [
    "class Mammal:\n",
    "    def reproduce(self):\n",
    "        print(\"Giving birth to live young\")\n",
    "\n",
    "class Dog(Animal):\n",
    "    def make_sound(self):\n",
    "        print(\"Woof!\")\n",
    "\n",
    "    def move(self):\n",
    "        print(\"Dog runs\")\n",
    "\n",
    "class DogMammal(Dog, Mammal):\n",
    "    pass  # No need to override methods in this case"
   ]
  },
  {
   "cell_type": "markdown",
   "metadata": {
    "id": "qtnyOpQByif4"
   },
   "source": [
    "**35.**"
   ]
  },
  {
   "cell_type": "code",
   "execution_count": 30,
   "metadata": {
    "id": "zXDJD097ycEl"
   },
   "outputs": [],
   "source": [
    "class GermanShepherd(Dog):\n",
    "    def make_sound(self):\n",
    "        print(\"Bark!\")"
   ]
  },
  {
   "cell_type": "markdown",
   "metadata": {
    "id": "Kinitg2hyo1f"
   },
   "source": [
    "**36.**"
   ]
  },
  {
   "cell_type": "code",
   "execution_count": 31,
   "metadata": {
    "colab": {
     "base_uri": "https://localhost:8080/"
    },
    "id": "D_bkhdJxynhF",
    "outputId": "2f7ad8c8-1240-443d-80c9-b4819845c474"
   },
   "outputs": [
    {
     "name": "stdout",
     "output_type": "stream",
     "text": [
      "Meow\n",
      "Woof!\n"
     ]
    }
   ],
   "source": [
    "class Animal:\n",
    "    def __init__(self, name, sound):\n",
    "        self.name = name\n",
    "        self.sound = sound\n",
    "\n",
    "    def make_sound(self):\n",
    "        print(self.sound)\n",
    "\n",
    "    def move(self):\n",
    "        print(\"Animal moves\")\n",
    "\n",
    "class Dog(Animal):\n",
    "    def __init__(self, name, breed):\n",
    "        super().__init__(name, \"Woof!\")  # Initialize the Animal part\n",
    "        self.breed = breed\n",
    "\n",
    "    def move(self):\n",
    "        print(\"Dog runs\")\n",
    "\n",
    "animal = Animal(\"Fluffy\", \"Meow\")\n",
    "animal.make_sound()\n",
    "\n",
    "dog = Dog(\"Buddy\", \"Golden Retriever\")\n",
    "dog.make_sound()"
   ]
  },
  {
   "cell_type": "markdown",
   "metadata": {
    "id": "bxDP-vL9yyY2"
   },
   "source": [
    "**37.**\n",
    "\n",
    "**Abstraction** is about hiding the complexity of implementation details and presenting a simplified view of an object. In Python, it's implemented using abstract base classes (ABCs) and abstract methods."
   ]
  },
  {
   "cell_type": "markdown",
   "metadata": {
    "id": "OzPeznBzy7zB"
   },
   "source": [
    "**38.**\n",
    "Abstraction is crucial for:\n",
    "\n",
    "**Code Simplicity:** It allows you to write code that's easier to understand and maintain because you're only dealing with the essentials.\n",
    "\n",
    "**Flexibility:** Abstract classes define a common interface, allowing you to work with objects of different concrete classes interchangeably.\n",
    "\n",
    "**Modularity:** It promotes modular design, making it easier to modify or extend code without impacting other parts of the system.\n",
    "\n",
    "**Information Hiding:** Abstraction helps protect internal implementation details from external users, promoting code security and maintainability."
   ]
  },
  {
   "cell_type": "markdown",
   "metadata": {
    "id": "l6AeWErAzS70"
   },
   "source": [
    "**39.**\n",
    "\n",
    "**Abstract methods** are declared using the @abstractmethod decorator. They are only defined in the abstract base class but are not implemented. Child classes must provide implementations for abstract methods.\n",
    "\n",
    "**Regular methods** are fully implemented in the class, and objects can directly call them."
   ]
  },
  {
   "cell_type": "markdown",
   "metadata": {
    "id": "RaPbiKShzkHv"
   },
   "source": [
    "**40.**\n",
    "\n",
    "Python doesn't have explicit interfaces like Java. However, you can achieve interface-like behavior using abstract base classes."
   ]
  },
  {
   "cell_type": "markdown",
   "metadata": {
    "id": "vuzAMxquzrVc"
   },
   "source": [
    "**41.**"
   ]
  },
  {
   "cell_type": "code",
   "execution_count": 32,
   "metadata": {
    "colab": {
     "base_uri": "https://localhost:8080/"
    },
    "id": "PrgjuePwywty",
    "outputId": "73e51505-d7d6-4c38-d39c-4e87bf6ed3e8"
   },
   "outputs": [
    {
     "name": "stdout",
     "output_type": "stream",
     "text": [
      "Car is starting...\n",
      "Bike is stopping...\n",
      "Truck is starting...\n"
     ]
    }
   ],
   "source": [
    "from abc import ABC, abstractmethod\n",
    "\n",
    "class Vehicle(ABC):\n",
    "    @abstractmethod\n",
    "    def start(self):\n",
    "        pass\n",
    "\n",
    "    @abstractmethod\n",
    "    def stop(self):\n",
    "        pass\n",
    "\n",
    "class Car(Vehicle):\n",
    "    def start(self):\n",
    "        print(\"Car is starting...\")\n",
    "\n",
    "    def stop(self):\n",
    "        print(\"Car is stopping...\")\n",
    "\n",
    "class Bike(Vehicle):\n",
    "    def start(self):\n",
    "        print(\"Bike is starting...\")\n",
    "\n",
    "    def stop(self):\n",
    "        print(\"Bike is stopping...\")\n",
    "\n",
    "class Truck(Vehicle):\n",
    "    def start(self):\n",
    "        print(\"Truck is starting...\")\n",
    "\n",
    "    def stop(self):\n",
    "        print(\"Truck is stopping...\")\n",
    "\n",
    "# Creating objects\n",
    "car = Car()\n",
    "bike = Bike()\n",
    "truck = Truck()\n",
    "\n",
    "# Calling common methods\n",
    "car.start()\n",
    "bike.stop()\n",
    "truck.start()"
   ]
  },
  {
   "cell_type": "markdown",
   "metadata": {
    "id": "cMoR-mrY0Sb9"
   },
   "source": [
    "**42.**"
   ]
  },
  {
   "cell_type": "code",
   "execution_count": 33,
   "metadata": {
    "colab": {
     "base_uri": "https://localhost:8080/"
    },
    "id": "Kjjjwyf20QDL",
    "outputId": "f221e83c-e8d0-479b-b8a1-de0bbb898021"
   },
   "outputs": [
    {
     "name": "stdout",
     "output_type": "stream",
     "text": [
      "Animal sound\n",
      "Woof woof!\n",
      "Meow meow!\n"
     ]
    }
   ],
   "source": [
    "class Animal:\n",
    "    def speak(self):\n",
    "        print(\"Animal sound\")\n",
    "\n",
    "class Dog(Animal):\n",
    "    def speak(self):\n",
    "        print(\"Woof woof!\")\n",
    "\n",
    "class Cat(Animal):\n",
    "    def speak(self):\n",
    "        print(\"Meow meow!\")\n",
    "\n",
    "# Creating objects\n",
    "animal = Animal()\n",
    "dog = Dog()\n",
    "cat = Cat()\n",
    "\n",
    "# Calling the same method for different objects\n",
    "animal.speak()\n",
    "dog.speak()\n",
    "cat.speak()"
   ]
  },
  {
   "cell_type": "markdown",
   "metadata": {
    "id": "-BS2w_iE1pUV"
   },
   "source": [
    "**43.**"
   ]
  },
  {
   "cell_type": "code",
   "execution_count": 34,
   "metadata": {
    "colab": {
     "base_uri": "https://localhost:8080/"
    },
    "id": "oMcOlcmP0bJp",
    "outputId": "81220d0e-2ac8-47ff-a4e9-813f8e8f6b26"
   },
   "outputs": [
    {
     "name": "stdout",
     "output_type": "stream",
     "text": [
      "Area of the square: 25\n"
     ]
    }
   ],
   "source": [
    "class Shape:\n",
    "    def area(self):\n",
    "        return 0  # Default implementation for area\n",
    "\n",
    "class Square(Shape):\n",
    "    def __init__(self, side):\n",
    "        self.side = side\n",
    "\n",
    "    def area(self):\n",
    "        return self.side * self.side\n",
    "\n",
    "# Create a Square object\n",
    "square = Square(5)\n",
    "# Calculate the area\n",
    "area = square.area()\n",
    "print(f\"Area of the square: {area}\")"
   ]
  },
  {
   "cell_type": "markdown",
   "metadata": {
    "id": "PJ7B2c1w1yyQ"
   },
   "source": [
    "**44.**"
   ]
  },
  {
   "cell_type": "code",
   "execution_count": 35,
   "metadata": {
    "colab": {
     "base_uri": "https://localhost:8080/"
    },
    "id": "tN7P20bS1wHZ",
    "outputId": "63244c9d-69e8-45c1-b71b-0e86afae4885"
   },
   "outputs": [
    {
     "name": "stdout",
     "output_type": "stream",
     "text": [
      "Car engine roaring...\n",
      "Vehicle starting...\n",
      "Bike engine humming...\n",
      "Vehicle starting...\n",
      "Truck engine rumbling...\n",
      "Vehicle starting...\n"
     ]
    }
   ],
   "source": [
    "class Vehicle:\n",
    "    def start(self):\n",
    "        print(\"Vehicle starting...\")\n",
    "\n",
    "    def stop(self):\n",
    "        print(\"Vehicle stopping...\")\n",
    "\n",
    "class Car(Vehicle):\n",
    "    def start(self):\n",
    "        print(\"Car engine roaring...\")\n",
    "        super().start()\n",
    "\n",
    "class Bike(Vehicle):\n",
    "    def start(self):\n",
    "        print(\"Bike engine humming...\")\n",
    "        super().start()\n",
    "\n",
    "class Truck(Vehicle):\n",
    "    def start(self):\n",
    "        print(\"Truck engine rumbling...\")\n",
    "        super().start()\n",
    "\n",
    "# Create objects\n",
    "car = Car()\n",
    "bike = Bike()\n",
    "truck = Truck()\n",
    "\n",
    "# Start the vehicles\n",
    "car.start()\n",
    "bike.start()\n",
    "truck.start()"
   ]
  },
  {
   "cell_type": "markdown",
   "metadata": {
    "id": "f28ywa8G2ABD"
   },
   "source": [
    "**45.**\n",
    "\n",
    "Polymorphism, in the context of code readability and reusability, brings significant advantages. Let's break down how it contributes to both:\n",
    "\n",
    "**Improved Readability:** Imagine you have a list of different types of objects, like vehicles (cars, trucks, bikes), and you want to perform the same action on each (e.g., starting them). With polymorphism, you don't need to write separate code blocks for each type. Instead, you can use a single method call that handles all cases. This simplifies the logic and makes your code easier to understand.\n",
    "\n",
    "**Enhanced Reusability:** Polymorphism allows you to write code that works with objects of different types without knowing the exact type at compile time. This enables code reuse. You can create a function that takes an object as input and performs operations based on the object's behavior (defined by its overridden methods), without needing to write separate code for each specific type of object."
   ]
  },
  {
   "cell_type": "markdown",
   "metadata": {
    "id": "j2g5U09c2Nc0"
   },
   "source": [
    "**46.**"
   ]
  },
  {
   "cell_type": "code",
   "execution_count": 36,
   "metadata": {
    "colab": {
     "base_uri": "https://localhost:8080/"
    },
    "id": "iIiDkVFH13-B",
    "outputId": "f81ca06f-dbbd-44aa-a1c8-bdcd15271b3e"
   },
   "outputs": [
    {
     "name": "stdout",
     "output_type": "stream",
     "text": [
      "The bird is flying\n",
      "This object cannot fly\n"
     ]
    }
   ],
   "source": [
    "def fly(obj):\n",
    "    if hasattr(obj, 'fly'):\n",
    "        obj.fly()\n",
    "    else:\n",
    "        print(\"This object cannot fly\")\n",
    "\n",
    "class Bird:\n",
    "    def fly(self):\n",
    "        print(\"The bird is flying\")\n",
    "\n",
    "class Fish:\n",
    "    def swim(self):\n",
    "        print(\"The fish is swimming\")\n",
    "\n",
    "bird = Bird()\n",
    "fish = Fish()\n",
    "\n",
    "fly(bird)  # Works because Bird has a fly() method\n",
    "fly(fish)  # Doesn't work because Fish doesn't have a fly() method"
   ]
  },
  {
   "cell_type": "markdown",
   "metadata": {
    "id": "8T5sFFF32Ymk"
   },
   "source": [
    "**47.**\n",
    "\n",
    "The __balance attribute is declared as a private attribute (indicated by the double underscore prefix). This means it cannot be directly accessed from outside the class.\n",
    "\n",
    "The class provides methods like deposit, withdraw, and get_balance to interact with the __balance"
   ]
  },
  {
   "cell_type": "code",
   "execution_count": 37,
   "metadata": {
    "colab": {
     "base_uri": "https://localhost:8080/"
    },
    "id": "OmUuqWdK2VJ0",
    "outputId": "4554e700-9ed0-44a0-bd92-ff0e05e46c47"
   },
   "outputs": [
    {
     "name": "stdout",
     "output_type": "stream",
     "text": [
      "Withdrawal successful.\n",
      "Current balance: 1300\n"
     ]
    }
   ],
   "source": [
    "class BankAccount:\n",
    "    def __init__(self, balance):\n",
    "        self.__balance = balance  # Private attribute\n",
    "\n",
    "    def deposit(self, amount):\n",
    "        self.__balance += amount\n",
    "\n",
    "    def withdraw(self, amount):\n",
    "        if self.__balance >= amount:\n",
    "            self.__balance -= amount\n",
    "            print(\"Withdrawal successful.\")\n",
    "        else:\n",
    "            print(\"Insufficient funds.\")\n",
    "\n",
    "    def get_balance(self):\n",
    "        return self.__balance\n",
    "\n",
    "# Create an account object\n",
    "account = BankAccount(1000)\n",
    "\n",
    "# Deposit money\n",
    "account.deposit(500)\n",
    "\n",
    "# Withdraw money\n",
    "account.withdraw(200)\n",
    "\n",
    "# Check the balance\n",
    "balance = account.get_balance()\n",
    "print(f\"Current balance: {balance}\")"
   ]
  },
  {
   "cell_type": "markdown",
   "metadata": {
    "id": "ve_RI6S22tcK"
   },
   "source": [
    "**48.**\n",
    "\n",
    "Encapsulation in Python is not truly bypassable. While it's not enforced through strict access control mechanisms like some other languages, the convention of naming private attributes with a double underscore (__) is widely adhered to. This acts as a strong signal to other developers that they should not directly access these attributes."
   ]
  },
  {
   "cell_type": "code",
   "execution_count": 38,
   "metadata": {
    "colab": {
     "base_uri": "https://localhost:8080/"
    },
    "id": "7fmr4AHw2bWL",
    "outputId": "0486d231-df4f-48d9-b8d6-937e3b13f1e8"
   },
   "outputs": [
    {
     "name": "stdout",
     "output_type": "stream",
     "text": [
      "Hello\n"
     ]
    }
   ],
   "source": [
    "class MyClass:\n",
    "    def __init__(self):\n",
    "        self.__private_var = \"Hello\"\n",
    "\n",
    "obj = MyClass()\n",
    "print(obj._MyClass__private_var)  # Accessing the private attribute"
   ]
  },
  {
   "cell_type": "markdown",
   "metadata": {
    "id": "EkVaYBcn26XR"
   },
   "source": [
    "**49.**\n",
    "\n",
    "This code creates a BankAccount class:\n",
    "\n",
    "**__balance** is the private balance attribute, initialized with initial_balance.\n",
    "\n",
    "**deposit** adds to the balance if the amount is valid.\n",
    "\n",
    "**withdraw** subtracts from the balance if there are sufficient funds.\n",
    "\n",
    "**get_balance** provides a way to check the current balance."
   ]
  },
  {
   "cell_type": "code",
   "execution_count": 39,
   "metadata": {
    "colab": {
     "base_uri": "https://localhost:8080/"
    },
    "id": "F6JkETwQ24wr",
    "outputId": "0bb105e1-4c6d-494f-9a06-e31a1d3bb6ba"
   },
   "outputs": [
    {
     "name": "stdout",
     "output_type": "stream",
     "text": [
      "Deposited 500. New balance: 1500\n",
      "Withdrew 200. New balance: 1300\n",
      "Current balance: 1300\n"
     ]
    }
   ],
   "source": [
    "class BankAccount:\n",
    "    def __init__(self, initial_balance=0):\n",
    "        self.__balance = initial_balance\n",
    "\n",
    "    def deposit(self, amount):\n",
    "        if amount > 0:\n",
    "            self.__balance += amount\n",
    "            print(f\"Deposited {amount}. New balance: {self.__balance}\")\n",
    "        else:\n",
    "            print(\"Invalid deposit amount.\")\n",
    "\n",
    "    def withdraw(self, amount):\n",
    "        if amount > 0 and amount <= self.__balance:\n",
    "            self.__balance -= amount\n",
    "            print(f\"Withdrew {amount}. New balance: {self.__balance}\")\n",
    "        elif amount <= 0:\n",
    "            print(\"Invalid withdrawal amount.\")\n",
    "        else:\n",
    "            print(\"Insufficient funds.\")\n",
    "\n",
    "    def get_balance(self):\n",
    "        return self.__balance\n",
    "\n",
    "# Create an account object\n",
    "account = BankAccount(1000)\n",
    "\n",
    "# Deposit some money\n",
    "account.deposit(500)\n",
    "\n",
    "# Withdraw some money\n",
    "account.withdraw(200)\n",
    "\n",
    "# Check the current balance\n",
    "print(f\"Current balance: {account.get_balance()}\")"
   ]
  },
  {
   "cell_type": "markdown",
   "metadata": {
    "id": "qf7Bi3Qo3TVN"
   },
   "source": [
    "**50.**\n",
    "\n",
    "This code defines a Person class:\n",
    "\n",
    "__name and __email are private attributes.\n",
    "\n",
    "get_name and get_email provide access to these attributes.\n",
    "\n",
    "set_email allows updating the email with some basic validation."
   ]
  },
  {
   "cell_type": "code",
   "execution_count": 40,
   "metadata": {
    "colab": {
     "base_uri": "https://localhost:8080/"
    },
    "id": "qOjWmbq23QH-",
    "outputId": "ec1e0e85-16c4-43c3-eb70-c172012a332f"
   },
   "outputs": [
    {
     "name": "stdout",
     "output_type": "stream",
     "text": [
      "Name: Alice\n",
      "Email: alice@example.com\n",
      "Email updated to: alice.new@example.com\n"
     ]
    }
   ],
   "source": [
    "class Person:\n",
    "    def __init__(self, name, email):\n",
    "        self.__name = name\n",
    "        self.__email = email\n",
    "\n",
    "    def get_name(self):\n",
    "        return self.__name\n",
    "\n",
    "    def get_email(self):\n",
    "        return self.__email\n",
    "\n",
    "    def set_email(self, new_email):\n",
    "        if \"@\" in new_email and \".\" in new_email:\n",
    "            self.__email = new_email\n",
    "            print(f\"Email updated to: {self.__email}\")\n",
    "        else:\n",
    "            print(\"Invalid email format.\")\n",
    "\n",
    "# Create a person object\n",
    "person = Person(\"Alice\", \"alice@example.com\")\n",
    "\n",
    "# Get the name and email\n",
    "print(f\"Name: {person.get_name()}\")\n",
    "print(f\"Email: {person.get_email()}\")\n",
    "\n",
    "# Update the email\n",
    "person.set_email(\"alice.new@example.com\")"
   ]
  },
  {
   "cell_type": "markdown",
   "metadata": {
    "id": "jLVWjolk3gkR"
   },
   "source": [
    "**51.**\n",
    "\n",
    "**Encapsulation**  is considered a pillar of object-oriented programming (OOP) because it offers several fundamental benefits:\n",
    "Data Hiding and Protection: Encapsulation protects data from being directly manipulated from outside the class. This ensures that data is only changed through controlled methods, which can perform validation or other necessary operations before altering the data.\n",
    "\n",
    "**Modularity and Reusability:** Encapsulation promotes modularity. Classes become self-contained units with their own data and methods, making them easier to reuse in different parts of a program or even in different programs.\n",
    "\n",
    "**Maintainability and Flexibility:** Encapsulation simplifies the maintenance and modification of code. If a change is required to the way data is stored or manipulated, it can be done within the class without affecting other parts of the program. This makes it easier to adapt to changing requirements.\n",
    "\n",
    "**Reduced Complexity:** Encapsulation hides internal implementation details from users of the class, reducing the overall complexity of the program. Users only need to interact with the public interface of the class, making the code easier to understand and work with.\n",
    "\n",
    "Encapsulation, in essence, helps create a clear separation between the internal workings of a class and its external usage, making OOP programs more robust, maintainable, and efficient."
   ]
  },
  {
   "cell_type": "markdown",
   "metadata": {
    "id": "1qnmYfPq35id"
   },
   "source": [
    "**52.**\n",
    "\n"
   ]
  },
  {
   "cell_type": "code",
   "execution_count": 41,
   "metadata": {
    "colab": {
     "base_uri": "https://localhost:8080/"
    },
    "id": "vrw7vSDl4Yn0",
    "outputId": "6911a61f-7079-40d3-bbd1-2b4586df0d5d"
   },
   "outputs": [
    {
     "name": "stdout",
     "output_type": "stream",
     "text": [
      "Calling function: say_hello\n",
      "Hello, World!\n",
      "Function say_hello completed.\n"
     ]
    }
   ],
   "source": [
    "def my_decorator(func):\n",
    "  def wrapper(*args, **kwargs):\n",
    "    print(f\"Calling function: {func.__name__}\")\n",
    "    result = func(*args, **kwargs)\n",
    "    print(f\"Function {func.__name__} completed.\")\n",
    "    return result\n",
    "  return wrapper\n",
    "\n",
    "@my_decorator\n",
    "def say_hello(name):\n",
    "  print(f\"Hello, {name}!\")\n",
    "\n",
    "say_hello(\"World\")"
   ]
  },
  {
   "cell_type": "markdown",
   "metadata": {
    "id": "V67NOsE84gb0"
   },
   "source": [
    "**53.**"
   ]
  },
  {
   "cell_type": "code",
   "execution_count": 42,
   "metadata": {
    "colab": {
     "base_uri": "https://localhost:8080/"
    },
    "id": "BhDmpgnx4ZSE",
    "outputId": "bb359181-2db0-4369-b520-242f0d47420a"
   },
   "outputs": [
    {
     "name": "stdout",
     "output_type": "stream",
     "text": [
      "Starting: Calling function greet\n",
      "Greetings, Alice!\n",
      "Starting: Function greet completed.\n"
     ]
    }
   ],
   "source": [
    "def my_decorator(message):\n",
    "  def decorator(func):\n",
    "    def wrapper(*args, **kwargs):\n",
    "      print(f\"{message}: Calling function {func.__name__}\")\n",
    "      result = func(*args, **kwargs)\n",
    "      print(f\"{message}: Function {func.__name__} completed.\")\n",
    "      return result\n",
    "    return wrapper\n",
    "  return decorator\n",
    "\n",
    "@my_decorator(\"Starting\")\n",
    "def greet(name):\n",
    "  print(f\"Greetings, {name}!\")\n",
    "\n",
    "greet(\"Alice\")"
   ]
  },
  {
   "cell_type": "markdown",
   "metadata": {
    "id": "qcE37FVo4j6x"
   },
   "source": [
    "**54.**"
   ]
  },
  {
   "cell_type": "code",
   "execution_count": 43,
   "metadata": {
    "colab": {
     "base_uri": "https://localhost:8080/"
    },
    "id": "q-eBwSWx4io5",
    "outputId": "e8335818-acd9-4eed-c6c2-627bd03d24cf"
   },
   "outputs": [
    {
     "name": "stdout",
     "output_type": "stream",
     "text": [
      "Before function call\n",
      "3 * 5 = 15\n",
      "After function call\n"
     ]
    },
    {
     "data": {
      "text/plain": [
       "15"
      ]
     },
     "execution_count": 43,
     "metadata": {},
     "output_type": "execute_result"
    }
   ],
   "source": [
    "def before_func(func):\n",
    "  def wrapper(*args, **kwargs):\n",
    "    print(\"Before function call\")\n",
    "    result = func(*args, **kwargs)\n",
    "    return result\n",
    "  return wrapper\n",
    "\n",
    "def after_func(func):\n",
    "  def wrapper(*args, **kwargs):\n",
    "    result = func(*args, **kwargs)\n",
    "    print(\"After function call\")\n",
    "    return result\n",
    "  return wrapper\n",
    "\n",
    "@before_func\n",
    "@after_func\n",
    "def multiply(a, b):\n",
    "  print(f\"{a} * {b} = {a * b}\")\n",
    "  return a * b\n",
    "\n",
    "multiply(3, 5)"
   ]
  },
  {
   "cell_type": "markdown",
   "metadata": {
    "id": "W4zs963u5nkS"
   },
   "source": [
    "**55.**"
   ]
  },
  {
   "cell_type": "code",
   "execution_count": 44,
   "metadata": {
    "colab": {
     "base_uri": "https://localhost:8080/"
    },
    "id": "VL2739KH4r98",
    "outputId": "a0387cb1-85dd-4fb2-8797-45381c6a5fbc"
   },
   "outputs": [
    {
     "name": "stdout",
     "output_type": "stream",
     "text": [
      "Arguments: (10, 5), {}\n",
      "5\n"
     ]
    }
   ],
   "source": [
    "def my_decorator(func):\n",
    "  def wrapper(*args, **kwargs):\n",
    "    print(f\"Arguments: {args}, {kwargs}\")\n",
    "    result = func(*args, **kwargs)\n",
    "    return result\n",
    "  return wrapper\n",
    "\n",
    "@my_decorator\n",
    "def subtract(x, y):\n",
    "  return x - y\n",
    "\n",
    "print(subtract(10, 5))"
   ]
  },
  {
   "cell_type": "markdown",
   "metadata": {
    "id": "2X0UKmue5t_2"
   },
   "source": [
    "**56.**"
   ]
  },
  {
   "cell_type": "code",
   "execution_count": 45,
   "metadata": {
    "colab": {
     "base_uri": "https://localhost:8080/"
    },
    "id": "dv45e-IH5pl3",
    "outputId": "734a03c3-e032-4d2b-ce95-4f4c6658f57e"
   },
   "outputs": [
    {
     "name": "stdout",
     "output_type": "stream",
     "text": [
      "multiply\n",
      "Multiplies two numbers.\n"
     ]
    }
   ],
   "source": [
    "import functools\n",
    "\n",
    "def preserve_metadata(func):\n",
    "  @functools.wraps(func)\n",
    "  def wrapper(*args, **kwargs):\n",
    "    return func(*args, **kwargs)\n",
    "  return wrapper\n",
    "\n",
    "@preserve_metadata\n",
    "def multiply(x, y):\n",
    "  \"\"\"Multiplies two numbers.\"\"\"\n",
    "  return x * y\n",
    "\n",
    "print(multiply.__name__)\n",
    "print(multiply.__doc__)"
   ]
  },
  {
   "cell_type": "markdown",
   "metadata": {
    "id": "2aJFP1Vn51oT"
   },
   "source": [
    "**57.**\n"
   ]
  },
  {
   "cell_type": "code",
   "execution_count": 46,
   "metadata": {
    "colab": {
     "base_uri": "https://localhost:8080/"
    },
    "id": "3aLwFoiJ5wfI",
    "outputId": "ce5ad865-3e02-4511-8e00-2f0181f3dce5"
   },
   "outputs": [
    {
     "name": "stdout",
     "output_type": "stream",
     "text": [
      "9\n"
     ]
    }
   ],
   "source": [
    "class Calculator:\n",
    "  @staticmethod\n",
    "  def add(x, y):\n",
    "    \"\"\"Adds two numbers.\"\"\"\n",
    "    return x + y\n",
    "\n",
    "result = Calculator.add(4, 5)\n",
    "print(result)"
   ]
  },
  {
   "cell_type": "markdown",
   "metadata": {
    "id": "XR2KDXu5577r"
   },
   "source": [
    "**58.**"
   ]
  },
  {
   "cell_type": "code",
   "execution_count": 47,
   "metadata": {
    "colab": {
     "base_uri": "https://localhost:8080/"
    },
    "id": "guqKVhC-57GV",
    "outputId": "c082cebe-ebe7-44b3-f897-1fb53ee31921"
   },
   "outputs": [
    {
     "name": "stdout",
     "output_type": "stream",
     "text": [
      "2\n"
     ]
    }
   ],
   "source": [
    "class Employee:\n",
    "  num_employees = 0\n",
    "\n",
    "  def __init__(self, name):\n",
    "    self.name = name\n",
    "    Employee.num_employees += 1\n",
    "\n",
    "  @classmethod\n",
    "  def get_employee_count(cls):\n",
    "    \"\"\"Returns the total number of employees created.\"\"\"\n",
    "    return cls.num_employees\n",
    "\n",
    "employee1 = Employee(\"John\")\n",
    "employee2 = Employee(\"Jane\")\n",
    "print(Employee.get_employee_count())"
   ]
  },
  {
   "cell_type": "markdown",
   "metadata": {
    "id": "81jQLsfK6DdY"
   },
   "source": [
    "**59.**"
   ]
  },
  {
   "cell_type": "code",
   "execution_count": 48,
   "metadata": {
    "colab": {
     "base_uri": "https://localhost:8080/"
    },
    "id": "6qKBC_fV6CSz",
    "outputId": "071d8cf2-77d1-4c08-a88f-716b8975bfbf"
   },
   "outputs": [
    {
     "name": "stdout",
     "output_type": "stream",
     "text": [
      "olleh\n"
     ]
    }
   ],
   "source": [
    "class StringFormatter:\n",
    "  @staticmethod\n",
    "  def reverse_string(text):\n",
    "    \"\"\"Reverses a string.\"\"\"\n",
    "    return text[::-1]\n",
    "\n",
    "reversed_text = StringFormatter.reverse_string(\"hello\")\n",
    "print(reversed_text)"
   ]
  },
  {
   "cell_type": "markdown",
   "metadata": {
    "id": "3k9398GF6Npl"
   },
   "source": [
    "**60.**"
   ]
  },
  {
   "cell_type": "code",
   "execution_count": 49,
   "metadata": {
    "colab": {
     "base_uri": "https://localhost:8080/"
    },
    "id": "tJP0a-qm6IdL",
    "outputId": "3b552297-ef60-48f3-976b-00791e516a72"
   },
   "outputs": [
    {
     "name": "stdout",
     "output_type": "stream",
     "text": [
      "78.53981633974483\n"
     ]
    }
   ],
   "source": [
    "import math\n",
    "\n",
    "class Circle:\n",
    "  def __init__(self, radius):\n",
    "    self.radius = radius\n",
    "\n",
    "  @classmethod\n",
    "  def calculate_area(cls, radius):\n",
    "    \"\"\"Calculates the area of a circle.\"\"\"\n",
    "    return math.pi * radius ** 2\n",
    "\n",
    "area = Circle.calculate_area(5)\n",
    "print(area)"
   ]
  },
  {
   "cell_type": "markdown",
   "metadata": {
    "id": "CO5uK3446S6g"
   },
   "source": [
    "**61.**"
   ]
  },
  {
   "cell_type": "code",
   "execution_count": 50,
   "metadata": {
    "colab": {
     "base_uri": "https://localhost:8080/"
    },
    "id": "dL7C5bjX6WRI",
    "outputId": "f1a66c0d-69b6-405e-d97a-7ff171b9fd96"
   },
   "outputs": [
    {
     "name": "stdout",
     "output_type": "stream",
     "text": [
      "77.0\n"
     ]
    }
   ],
   "source": [
    "class TemperatureConverter:\n",
    "  @staticmethod\n",
    "  def celsius_to_fahrenheit(celsius):\n",
    "    \"\"\"Converts Celsius to Fahrenheit.\"\"\"\n",
    "    return (celsius * 9/5) + 32\n",
    "\n",
    "fahrenheit = TemperatureConverter.celsius_to_fahrenheit(25)\n",
    "print(fahrenheit)"
   ]
  },
  {
   "cell_type": "markdown",
   "metadata": {
    "id": "xp2a5HB36aZr"
   },
   "source": [
    "**62.**\n",
    "\n",
    "The __str__() method defines how an object should be represented as a string when you try to print it.\n",
    "\n",
    "Without it, Python would print the object's memory address, which isn't very user-friendly."
   ]
  },
  {
   "cell_type": "code",
   "execution_count": 51,
   "metadata": {
    "colab": {
     "base_uri": "https://localhost:8080/"
    },
    "id": "6jeCQAPC6ZNi",
    "outputId": "558f869b-6568-4136-9f8c-f4de4532c220"
   },
   "outputs": [
    {
     "name": "stdout",
     "output_type": "stream",
     "text": [
      "This is a Golden Retriever named Buddy\n"
     ]
    }
   ],
   "source": [
    "class Dog:\n",
    "  def __init__(self, name, breed):\n",
    "    self.name = name\n",
    "    self.breed = breed\n",
    "\n",
    "  def __str__(self):\n",
    "    return f\"This is a {self.breed} named {self.name}\"\n",
    "\n",
    "my_dog = Dog(\"Buddy\", \"Golden Retriever\")\n",
    "print(my_dog)"
   ]
  },
  {
   "cell_type": "markdown",
   "metadata": {
    "id": "9FCN-0ki6nH2"
   },
   "source": [
    "**63.**\n",
    "\n",
    "The len() function is built-in to Python and can be used to determine the length of various data structures like lists, strings, tuples, dictionaries."
   ]
  },
  {
   "cell_type": "code",
   "execution_count": 52,
   "metadata": {
    "colab": {
     "base_uri": "https://localhost:8080/"
    },
    "id": "KJZ1WoLB6fuE",
    "outputId": "3817099f-66fe-4801-bdf4-7a29429d49e7"
   },
   "outputs": [
    {
     "name": "stdout",
     "output_type": "stream",
     "text": [
      "Length of list: 5\n",
      "Length of string: 5\n"
     ]
    }
   ],
   "source": [
    "my_list = [1, 2, 3, 4, 5]\n",
    "my_string = \"Hello\"\n",
    "\n",
    "length_of_list = len(my_list)\n",
    "length_of_string = len(my_string)\n",
    "\n",
    "print(f\"Length of list: {length_of_list}\")\n",
    "print(f\"Length of string: {length_of_string}\")"
   ]
  },
  {
   "cell_type": "markdown",
   "metadata": {
    "id": "AfUZWbnL6z8H"
   },
   "source": [
    "**64.**\n",
    "\n",
    "The __add__() method defines how the addition operator (+) works when used with objects of the class. It should take another object of the same class as an argument and return a new object representing the result of the addition.\n",
    "\n",
    "**Example of this**"
   ]
  },
  {
   "cell_type": "code",
   "execution_count": 53,
   "metadata": {
    "colab": {
     "base_uri": "https://localhost:8080/"
    },
    "id": "zj1nKfxY6uAA",
    "outputId": "02105a90-5896-4cee-9069-ea8bb5ea4932"
   },
   "outputs": [
    {
     "name": "stdout",
     "output_type": "stream",
     "text": [
      "v3: (4, 6)\n"
     ]
    }
   ],
   "source": [
    "class Vector:\n",
    "  def __init__(self, x, y):\n",
    "    self.x = x\n",
    "    self.y = y\n",
    "\n",
    "  def __add__(self, other):\n",
    "    return Vector(self.x + other.x, self.y + other.y)\n",
    "\n",
    "v1 = Vector(1, 2)\n",
    "v2 = Vector(3, 4)\n",
    "v3 = v1 + v2  # Using the addition operator\n",
    "print(f\"v3: ({v3.x}, {v3.y})\")"
   ]
  },
  {
   "cell_type": "markdown",
   "metadata": {
    "id": "jVTVXb1c7fss"
   },
   "source": [
    "**65.**\n",
    "\n",
    "The __getitem__() method allows you to access items within an object like you would access items in a list or dictionary using square brackets ([]). It takes an integer (index) as an argument and returns the corresponding item.\n",
    "\n",
    "**Example:**"
   ]
  },
  {
   "cell_type": "code",
   "execution_count": 54,
   "metadata": {
    "colab": {
     "base_uri": "https://localhost:8080/"
    },
    "id": "KeRfwBpB7cPq",
    "outputId": "55bb9ca6-72a8-4c7f-b671-240dc5bedf92"
   },
   "outputs": [
    {
     "name": "stdout",
     "output_type": "stream",
     "text": [
      "20\n"
     ]
    }
   ],
   "source": [
    "class MySequence:\n",
    "  def __init__(self, sequence):\n",
    "    self.sequence = sequence\n",
    "\n",
    "  def __getitem__(self, index):\n",
    "    return self.sequence[index]\n",
    "\n",
    "my_seq = MySequence([10, 20, 30, 40])\n",
    "print(my_seq[1])"
   ]
  },
  {
   "cell_type": "markdown",
   "metadata": {
    "id": "xdMAlFZ_762l"
   },
   "source": [
    "**66.**\n",
    "\n",
    "The __iter__() method makes an object iterable. It returns an iterator object. The __next__() method is defined within the iterator object. It's called by the next() function to retrieve the next item in the iteration. If there are no more items, it raises a StopIteration exception.\n",
    "\n",
    "**Exampe:**"
   ]
  },
  {
   "cell_type": "code",
   "execution_count": 55,
   "metadata": {
    "colab": {
     "base_uri": "https://localhost:8080/"
    },
    "id": "FOCeoArW8D46",
    "outputId": "ce1d1d9f-92f7-40b8-df80-e85e6328f674"
   },
   "outputs": [
    {
     "name": "stdout",
     "output_type": "stream",
     "text": [
      "1\n",
      "2\n",
      "3\n",
      "4\n"
     ]
    }
   ],
   "source": [
    "class MyRange:\n",
    "  def __init__(self, start, end):\n",
    "    self.start = start\n",
    "    self.end = end\n",
    "    self.current = start\n",
    "\n",
    "  def __iter__(self):\n",
    "    return self\n",
    "\n",
    "  def __next__(self):\n",
    "    if self.current < self.end:\n",
    "      value = self.current\n",
    "      self.current += 1\n",
    "      return value\n",
    "    else:\n",
    "      raise StopIteration\n",
    "\n",
    "for i in MyRange(1, 5):\n",
    "  print(i)"
   ]
  },
  {
   "cell_type": "markdown",
   "metadata": {
    "id": "DE9jTeut8LTU"
   },
   "source": [
    "**67.**\n",
    "\n",
    "A getter method provides a controlled way to access the value of an attribute. It's often used to perform some logic before returning the value. Property decorators offer a more concise way to define getters (and setters) in Python.\n",
    "\n",
    "**Example:**"
   ]
  },
  {
   "cell_type": "code",
   "execution_count": 56,
   "metadata": {
    "colab": {
     "base_uri": "https://localhost:8080/"
    },
    "id": "vhmxPPMj8G9M",
    "outputId": "0af670cd-1979-4716-afb9-50ae9dfe1cc2"
   },
   "outputs": [
    {
     "name": "stdout",
     "output_type": "stream",
     "text": [
      "HONDA CIVIC\n"
     ]
    }
   ],
   "source": [
    "class Car:\n",
    "  def __init__(self, model):\n",
    "    self._model = model\n",
    "\n",
    "  @property\n",
    "  def model(self):\n",
    "    return self._model.upper()\n",
    "\n",
    "my_car = Car(\"Honda Civic\")\n",
    "print(my_car.model)"
   ]
  },
  {
   "cell_type": "markdown",
   "metadata": {
    "id": "2Vmkm3my8v-L"
   },
   "source": [
    "**68.**\n",
    "\n",
    "A setter method controls how an attribute's value is set. It can perform validations, transformations, or other operations before storing the value. Property decorators also allow defining setters.\n",
    "\n",
    "**Example:**"
   ]
  },
  {
   "cell_type": "code",
   "execution_count": 57,
   "metadata": {
    "colab": {
     "base_uri": "https://localhost:8080/"
    },
    "id": "T8YpJgfL8UDl",
    "outputId": "ca80100c-c6b3-466a-8398-527eb692382b"
   },
   "outputs": [
    {
     "name": "stdout",
     "output_type": "stream",
     "text": [
      "John\n",
      "Jane\n",
      "Invalid name. Name should contain only letters.\n",
      "Jane\n",
      "Jane\n"
     ]
    }
   ],
   "source": [
    "class Employee:\n",
    "  def __init__(self, name):\n",
    "    self._name = name\n",
    "\n",
    "  @property\n",
    "  def name(self):\n",
    "    return self._name\n",
    "\n",
    "  @name.setter\n",
    "  def name(self, new_name):\n",
    "    if new_name.isalpha():\n",
    "      self._name = new_name\n",
    "    else:\n",
    "      print(\"Invalid name. Name should contain only letters.\")\n",
    "\n",
    "emp = Employee(\"John\")\n",
    "print(emp.name)\n",
    "\n",
    "emp.name = \"Jane\"  # Valid change\n",
    "print(emp.name)\n",
    "\n",
    "emp.name = \"John123\"  # Invalid change\n",
    "print(emp.name)\n",
    "print(emp.name)"
   ]
  },
  {
   "cell_type": "markdown",
   "metadata": {
    "id": "QTyLh_Wi9Cd3"
   },
   "source": [
    "**69.**\n",
    "\n",
    "The @property decorator simplifies the creation of getter methods and makes the access to attributes feel more natural.\n",
    "\n",
    "**Example:**"
   ]
  },
  {
   "cell_type": "code",
   "execution_count": 58,
   "metadata": {
    "colab": {
     "base_uri": "https://localhost:8080/"
    },
    "id": "SskaQ8Ca89yf",
    "outputId": "c80913ee-e9c7-46ca-e7d6-85fc5504298a"
   },
   "outputs": [
    {
     "name": "stdout",
     "output_type": "stream",
     "text": [
      "5\n",
      "78.53975\n"
     ]
    }
   ],
   "source": [
    "class Circle:\n",
    "  def __init__(self, radius):\n",
    "    self._radius = radius\n",
    "\n",
    "  @property\n",
    "  def radius(self):\n",
    "    return self._radius\n",
    "\n",
    "  @radius.setter\n",
    "  def radius(self, new_radius):\n",
    "    if new_radius > 0:\n",
    "      self._radius = new_radius\n",
    "    else:\n",
    "      print(\"Radius must be positive.\")\n",
    "\n",
    "  @property\n",
    "  def area(self):\n",
    "    return 3.14159 * self._radius ** 2\n",
    "\n",
    "my_circle = Circle(5)\n",
    "print(my_circle.radius)\n",
    "print(my_circle.area)"
   ]
  },
  {
   "cell_type": "markdown",
   "metadata": {
    "id": "NKzt8M8g9PRR"
   },
   "source": [
    "**70.**\n",
    "\n",
    "The **@deleter** decorator allows you to define a deleter method for a property. A deleter method is called when you use the del keyword to delete an attribute.\n",
    "\n",
    "**Example:**"
   ]
  },
  {
   "cell_type": "code",
   "execution_count": 59,
   "metadata": {
    "colab": {
     "base_uri": "https://localhost:8080/"
    },
    "id": "Z-V_su9W9MBI",
    "outputId": "bd878015-7e8c-4a35-e949-3594f5ee6add"
   },
   "outputs": [
    {
     "name": "stdout",
     "output_type": "stream",
     "text": [
      "1000\n",
      "Account balance deleted.\n"
     ]
    }
   ],
   "source": [
    "class Account:\n",
    "  def __init__(self, balance):\n",
    "    self._balance = balance\n",
    "\n",
    "  @property\n",
    "  def balance(self):\n",
    "    return self._balance\n",
    "\n",
    "  @balance.setter\n",
    "  def balance(self, new_balance):\n",
    "    self._balance = new_balance\n",
    "\n",
    "  @balance.deleter\n",
    "  def balance(self):\n",
    "    del self._balance\n",
    "    print(\"Account balance deleted.\")\n",
    "\n",
    "my_account = Account(1000)\n",
    "print(my_account.balance)\n",
    "del my_account.balance"
   ]
  },
  {
   "cell_type": "markdown",
   "metadata": {
    "id": "ReBhdOD-9ctV"
   },
   "source": [
    "**71.**\n",
    "\n",
    "**Encapsulation** is the principle of hiding data and methods within a class, exposing only controlled access through public interfaces. Property decorators help with encapsulation by providing a way to manage attribute access while keeping the internal representation private.\n",
    "\n",
    "**Example:**"
   ]
  },
  {
   "cell_type": "code",
   "execution_count": 60,
   "metadata": {
    "colab": {
     "base_uri": "https://localhost:8080/"
    },
    "id": "n_C7BHl99Zc-",
    "outputId": "65274fce-9951-45d1-b336-642a0f139f81"
   },
   "outputs": [
    {
     "name": "stdout",
     "output_type": "stream",
     "text": [
      "50\n",
      "70\n"
     ]
    }
   ],
   "source": [
    "class Rectangle:\n",
    "  def __init__(self, width, height):\n",
    "    self._width = width\n",
    "    self._height = height\n",
    "\n",
    "  @property\n",
    "  def width(self):\n",
    "    return self._width\n",
    "\n",
    "  @width.setter\n",
    "  def width(self, new_width):\n",
    "    if new_width > 0:\n",
    "      self._width = new_width\n",
    "    else:\n",
    "      print(\"Width must be positive.\")\n",
    "\n",
    "  @property\n",
    "  def height(self):\n",
    "    return self._height\n",
    "\n",
    "  @height.setter\n",
    "  def height(self, new_height):\n",
    "    if new_height > 0:\n",
    "      self._height = new_height\n",
    "    else:\n",
    "      print(\"Height must be positive.\")\n",
    "\n",
    "  def area(self):\n",
    "    return self.width * self.height\n",
    "\n",
    "my_rect = Rectangle(5, 10)\n",
    "print(my_rect.area())\n",
    "\n",
    "my_rect.width = 7\n",
    "print(my_rect.area())"
   ]
  }
 ],
 "metadata": {
  "colab": {
   "provenance": []
  },
  "kernelspec": {
   "display_name": "Python 3 (ipykernel)",
   "language": "python",
   "name": "python3"
  },
  "language_info": {
   "codemirror_mode": {
    "name": "ipython",
    "version": 3
   },
   "file_extension": ".py",
   "mimetype": "text/x-python",
   "name": "python",
   "nbconvert_exporter": "python",
   "pygments_lexer": "ipython3",
   "version": "3.10.8"
  }
 },
 "nbformat": 4,
 "nbformat_minor": 4
}
